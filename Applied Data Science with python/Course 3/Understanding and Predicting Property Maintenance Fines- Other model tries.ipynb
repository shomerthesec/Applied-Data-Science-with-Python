{
 "cells": [
  {
   "cell_type": "code",
   "execution_count": 52,
   "metadata": {
    "ExecuteTime": {
     "end_time": "2020-07-28T18:07:16.167793Z",
     "start_time": "2020-07-28T18:07:13.580025Z"
    }
   },
   "outputs": [
    {
     "name": "stderr",
     "output_type": "stream",
     "text": [
      "C:\\ProgramData\\Anaconda3\\lib\\site-packages\\IPython\\core\\interactiveshell.py:3072: DtypeWarning: Columns (11,12,31) have mixed types.Specify dtype option on import or set low_memory=False.\n",
      "  interactivity=interactivity, compiler=compiler, result=result)\n"
     ]
    }
   ],
   "source": [
    "import pandas as pd\n",
    "import numpy as np\n",
    "from sklearn.metrics import roc_auc_score\n",
    "from sklearn.model_selection import train_test_split    \n",
    "from sklearn.model_selection import cross_val_score \n",
    "from sklearn.svm import SVC\n",
    "from sklearn.model_selection import GridSearchCV\n",
    "\n",
    "col_drop=['payment_amount' ,'agency_name','payment_date' ,\n",
    "      'payment_status' ,'balance_due', 'collection_status',\n",
    "      'inspector_name','violator_name' , 'grafitti_status',\n",
    "      'violation_zip_code','mailing_address_str_number', 'mailing_address_str_name',  \n",
    "      'zip_code', 'non_us_str_code','city', 'state', 'country',\n",
    "     'disposition', 'violation_street_name','violation_description','compliance_detail',\n",
    "     'ticket_issued_date','hearing_date','violation_code']\n",
    "\n",
    "df=pd.read_csv('train.csv',encoding='ISO-8859-1').drop(col_drop,axis=1).dropna()\n",
    "traindata=df.iloc[: , :-1]\n",
    "trainlabel=df.iloc[:,-1]\n",
    "\n",
    "x_train , x_test , y_train , y_test = train_test_split (traindata , trainlabel)\n",
    "\n",
    "from sklearn.preprocessing import MinMaxScaler\n",
    "scale = MinMaxScaler()\n",
    "\n",
    "scale_train = scale.fit_transform(x_train)\n",
    "scale_test = scale.transform(x_test)\n",
    "\n",
    "\n",
    "\n",
    "#clf = SVC(kernel='sigmoid', C=0.01 ).fit(scale_train, y_train)\n",
    "\n",
    "\n",
    "#predictions=clf.predict(scale_test)\n",
    "\n",
    "#print( roc_auc_score(y_test , predictions ) )"
   ]
  },
  {
   "cell_type": "code",
   "execution_count": 12,
   "metadata": {
    "ExecuteTime": {
     "end_time": "2020-07-28T17:45:34.233977Z",
     "start_time": "2020-07-28T17:45:22.669501Z"
    }
   },
   "outputs": [
    {
     "name": "stdout",
     "output_type": "stream",
     "text": [
      "0.5876340768672742\n"
     ]
    }
   ],
   "source": [
    "from sklearn.ensemble import RandomForestClassifier\n",
    "clf = RandomForestClassifier( n_estimators=200 ,max_features= 5  , random_state=0).fit(scale_train, y_train)\n",
    "predictions=clf.predict(scale_test)\n",
    "\n",
    "print( roc_auc_score(y_test , predictions ) )"
   ]
  },
  {
   "cell_type": "code",
   "execution_count": 79,
   "metadata": {
    "ExecuteTime": {
     "end_time": "2020-07-28T18:20:31.826862Z",
     "start_time": "2020-07-28T18:20:20.389325Z"
    }
   },
   "outputs": [
    {
     "name": "stdout",
     "output_type": "stream",
     "text": [
      "      Iter       Train Loss   Remaining Time \n",
      "         1           0.7716           11.02s\n",
      "         2           2.7250           11.11s\n",
      "         3 74212476151667.5312           10.76s\n",
      "         4 74212476151667.5625           10.38s\n",
      "         5 74212476151667.5625           10.10s\n",
      "         6 74212476151667.5625            9.86s\n",
      "         7 74212476151667.5625            9.68s\n",
      "         8 74212476151667.5625            9.61s\n",
      "         9 74212476151667.5469            9.40s\n",
      "        10 74212476151667.5469            9.12s\n",
      "        20 74212476151667.5312            6.77s\n",
      "        30 74212476151667.5312            4.48s\n",
      "        40 74212476151667.5312            2.26s\n",
      "        50 74212476151667.5469            0.00s\n",
      "0.7096028419164863\n"
     ]
    }
   ],
   "source": [
    "from sklearn.ensemble import GradientBoostingClassifier\n",
    "clf = GradientBoostingClassifier( n_estimators=50 , learning_rate=1.56, max_depth=4 , verbose=1 , min_samples_split=0.2 , validation_fraction=0.2, random_state=0 ).fit(scale_train, y_train)\n",
    "\n",
    "\n",
    "predictions=clf.predict(scale_test)\n",
    "\n",
    "print( roc_auc_score(y_test , predictions ) )"
   ]
  },
  {
   "cell_type": "code",
   "execution_count": 101,
   "metadata": {
    "ExecuteTime": {
     "end_time": "2020-07-28T18:49:48.267719Z",
     "start_time": "2020-07-28T18:48:27.323068Z"
    }
   },
   "outputs": [
    {
     "name": "stdout",
     "output_type": "stream",
     "text": [
      "Iteration 1, loss = 0.24958271\n",
      "Iteration 2, loss = 0.22385727\n",
      "Iteration 3, loss = 0.22037798\n",
      "Iteration 4, loss = 0.21936437\n",
      "Iteration 5, loss = 0.21885008\n",
      "Iteration 6, loss = 0.21809511\n",
      "Iteration 7, loss = 0.21742076\n",
      "Iteration 8, loss = 0.21677382\n",
      "Iteration 9, loss = 0.21727814\n",
      "Iteration 10, loss = 0.21648018\n",
      "Iteration 11, loss = 0.21588158\n",
      "Iteration 12, loss = 0.21594288\n",
      "Iteration 13, loss = 0.21549836\n",
      "Iteration 14, loss = 0.21534246\n",
      "Iteration 15, loss = 0.21497384\n",
      "Iteration 16, loss = 0.21516515\n",
      "Iteration 17, loss = 0.21538556\n",
      "Iteration 18, loss = 0.21519540\n",
      "Iteration 19, loss = 0.21486788\n",
      "Iteration 20, loss = 0.21514126\n"
     ]
    },
    {
     "name": "stderr",
     "output_type": "stream",
     "text": [
      "C:\\ProgramData\\Anaconda3\\lib\\site-packages\\sklearn\\neural_network\\_multilayer_perceptron.py:585: ConvergenceWarning: Stochastic Optimizer: Maximum iterations (20) reached and the optimization hasn't converged yet.\n",
      "  % self.max_iter, ConvergenceWarning)\n"
     ]
    },
    {
     "name": "stdout",
     "output_type": "stream",
     "text": [
      "0.5482122361217506\n"
     ]
    }
   ],
   "source": [
    "from sklearn.neural_network import MLPClassifier\n",
    "\n",
    "clf = MLPClassifier(solver='adam', activation = 'tanh',\n",
    "                         alpha = 0.005 , # play with this\n",
    "                         hidden_layer_sizes = [40,40,64,64],\n",
    "                        learning_rate='adaptive',\n",
    "                         max_iter=20, verbose=True,\n",
    "                         random_state = 0).fit(scale_train, y_train)\n",
    "\n",
    "predictions=clf.predict(scale_test)\n",
    "\n",
    "print( roc_auc_score(y_test , predictions ) )"
   ]
  },
  {
   "cell_type": "code",
   "execution_count": 104,
   "metadata": {
    "ExecuteTime": {
     "end_time": "2020-07-28T19:12:14.875359Z",
     "start_time": "2020-07-28T18:55:26.600739Z"
    }
   },
   "outputs": [
    {
     "name": "stdout",
     "output_type": "stream",
     "text": [
      "linear AUC : 0.5482122361217506\n",
      "poly AUC : 0.5482122361217506\n",
      "rbf AUC : 0.5482122361217506\n"
     ]
    }
   ],
   "source": [
    "from sklearn.svm import SVC\n",
    "\n",
    "for i in ['linear', 'poly', 'rbf']:\n",
    "    svm = SVC(kernel=i , C=0.3).fit(scale_train, y_train)\n",
    "\n",
    "    predictions=clf.predict(scale_test)\n",
    "\n",
    "    print(i , 'AUC :', roc_auc_score(y_test , predictions ) )"
   ]
  },
  {
   "cell_type": "code",
   "execution_count": 105,
   "metadata": {
    "ExecuteTime": {
     "end_time": "2020-07-28T19:13:37.692102Z",
     "start_time": "2020-07-28T19:12:15.539037Z"
    }
   },
   "outputs": [
    {
     "name": "stdout",
     "output_type": "stream",
     "text": [
      "Iteration 1, loss = 0.26347251\n",
      "Iteration 2, loss = 0.26201427\n",
      "Iteration 3, loss = 0.26169325\n",
      "Iteration 4, loss = 0.26162615\n",
      "Iteration 5, loss = 0.26144770\n",
      "Iteration 6, loss = 0.26114087\n",
      "Iteration 7, loss = 0.26096253\n",
      "Iteration 8, loss = 0.26076568\n",
      "Iteration 9, loss = 0.26067055\n",
      "Iteration 10, loss = 0.26055277\n",
      "Iteration 11, loss = 0.26034443\n",
      "Iteration 12, loss = 0.26024125\n",
      "Iteration 13, loss = 0.26023470\n",
      "Iteration 14, loss = 0.26007460\n",
      "Iteration 15, loss = 0.25991245\n",
      "Iteration 16, loss = 0.25994076\n",
      "Iteration 17, loss = 0.25997550\n",
      "Iteration 18, loss = 0.26004216\n",
      "Iteration 19, loss = 0.26001399\n",
      "Iteration 20, loss = 0.25985832\n"
     ]
    },
    {
     "name": "stderr",
     "output_type": "stream",
     "text": [
      "C:\\ProgramData\\Anaconda3\\lib\\site-packages\\sklearn\\neural_network\\_multilayer_perceptron.py:585: ConvergenceWarning: Stochastic Optimizer: Maximum iterations (20) reached and the optimization hasn't converged yet.\n",
      "  % self.max_iter, ConvergenceWarning)\n"
     ]
    },
    {
     "name": "stdout",
     "output_type": "stream",
     "text": [
      "0.5\n"
     ]
    }
   ],
   "source": [
    "from sklearn.neural_network import MLPClassifier\n",
    "\n",
    "clf = MLPClassifier(solver='adam', activation = 'tanh',\n",
    "                         alpha = 0.005 , # play with this\n",
    "                         hidden_layer_sizes = [40,40,64,64],\n",
    "                        learning_rate='adaptive',\n",
    "                         max_iter=20, verbose=True,\n",
    "                         random_state = 0).fit(x_train, y_train)\n",
    "\n",
    "predictions=clf.predict(scale_test)\n",
    "\n",
    "print( roc_auc_score(y_test , predictions ) )"
   ]
  },
  {
   "cell_type": "code",
   "execution_count": 119,
   "metadata": {
    "ExecuteTime": {
     "end_time": "2020-07-28T19:27:43.444408Z",
     "start_time": "2020-07-28T19:27:22.219858Z"
    }
   },
   "outputs": [
    {
     "name": "stdout",
     "output_type": "stream",
     "text": [
      "0.7107851076700943\n"
     ]
    }
   ],
   "source": [
    "from sklearn.ensemble import RandomForestClassifier\n",
    "clf = RandomForestClassifier( n_estimators=200  , criterion='entropy' , max_depth=3 ,bootstrap= False, class_weight='balanced', # the class balance is the KEY\n",
    "                             random_state=0).fit(x_train, y_train)\n",
    "predictions=clf.predict(x_test)\n",
    "\n",
    "print( roc_auc_score(y_test , predictions ) )"
   ]
  },
  {
   "cell_type": "code",
   "execution_count": null,
   "metadata": {
    "ExecuteTime": {
     "start_time": "2020-07-28T19:29:08.306Z"
    }
   },
   "outputs": [],
   "source": [
    "svm = SVC(kernel='rbf' , C=0.05 ,class_weight='balanced' ).fit(scale_train, y_train)\n",
    "\n",
    "predictions=clf.predict(scale_test)\n",
    "\n",
    "print( roc_auc_score(y_test , predictions ) )"
   ]
  },
  {
   "cell_type": "code",
   "execution_count": null,
   "metadata": {},
   "outputs": [],
   "source": [
    "test_drop=['agency_name','inspector_name','violator_name' , 'grafitti_status',\n",
    "      'violation_zip_code','mailing_address_str_number', 'mailing_address_str_name',  \n",
    "      'zip_code', 'non_us_str_code','city', 'state', 'country',\n",
    "     'disposition', 'violation_street_name','violation_description',\n",
    "     'ticket_issued_date','hearing_date','violation_code']\n",
    "\n",
    "test=pd.read_csv('test.csv',encoding='ISO-8859-1').drop(test_drop,axis=1)"
   ]
  }
 ],
 "metadata": {
  "coursera": {
   "course_slug": "python-machine-learning",
   "graded_item_id": "nNS8l",
   "launcher_item_id": "yWWk7",
   "part_id": "w8BSS"
  },
  "kernelspec": {
   "display_name": "Python 3",
   "language": "python",
   "name": "python3"
  },
  "language_info": {
   "codemirror_mode": {
    "name": "ipython",
    "version": 3
   },
   "file_extension": ".py",
   "mimetype": "text/x-python",
   "name": "python",
   "nbconvert_exporter": "python",
   "pygments_lexer": "ipython3",
   "version": "3.7.7"
  },
  "varInspector": {
   "cols": {
    "lenName": 16,
    "lenType": 16,
    "lenVar": 40
   },
   "kernels_config": {
    "python": {
     "delete_cmd_postfix": "",
     "delete_cmd_prefix": "del ",
     "library": "var_list.py",
     "varRefreshCmd": "print(var_dic_list())"
    },
    "r": {
     "delete_cmd_postfix": ") ",
     "delete_cmd_prefix": "rm(",
     "library": "var_list.r",
     "varRefreshCmd": "cat(var_dic_list()) "
    }
   },
   "types_to_exclude": [
    "module",
    "function",
    "builtin_function_or_method",
    "instance",
    "_Feature"
   ],
   "window_display": false
  }
 },
 "nbformat": 4,
 "nbformat_minor": 2
}
