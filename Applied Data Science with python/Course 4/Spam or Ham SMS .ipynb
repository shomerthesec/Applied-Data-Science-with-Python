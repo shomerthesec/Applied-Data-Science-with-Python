{
 "cells": [
  {
   "cell_type": "markdown",
   "metadata": {},
   "source": [
    "---\n",
    "\n",
    "_You are currently looking at **version 1.1** of this notebook. To download notebooks and datafiles, as well as get help on Jupyter notebooks in the Coursera platform, visit the [Jupyter Notebook FAQ](https://www.coursera.org/learn/python-text-mining/resources/d9pwm) course resource._\n",
    "\n",
    "---"
   ]
  },
  {
   "cell_type": "markdown",
   "metadata": {},
   "source": [
    "# Assignment 3\n",
    "\n",
    "In this assignment you will explore text message data and create models to predict if a message is spam or not. "
   ]
  },
  {
   "cell_type": "code",
   "execution_count": 402,
   "metadata": {
    "ExecuteTime": {
     "end_time": "2020-08-09T16:02:05.036194Z",
     "start_time": "2020-08-09T16:02:04.997213Z"
    }
   },
   "outputs": [
    {
     "data": {
      "text/html": [
       "<div>\n",
       "<style scoped>\n",
       "    .dataframe tbody tr th:only-of-type {\n",
       "        vertical-align: middle;\n",
       "    }\n",
       "\n",
       "    .dataframe tbody tr th {\n",
       "        vertical-align: top;\n",
       "    }\n",
       "\n",
       "    .dataframe thead th {\n",
       "        text-align: right;\n",
       "    }\n",
       "</style>\n",
       "<table border=\"1\" class=\"dataframe\">\n",
       "  <thead>\n",
       "    <tr style=\"text-align: right;\">\n",
       "      <th></th>\n",
       "      <th>text</th>\n",
       "      <th>target</th>\n",
       "    </tr>\n",
       "  </thead>\n",
       "  <tbody>\n",
       "    <tr>\n",
       "      <th>0</th>\n",
       "      <td>Go until jurong point, crazy.. Available only ...</td>\n",
       "      <td>0</td>\n",
       "    </tr>\n",
       "    <tr>\n",
       "      <th>1</th>\n",
       "      <td>Ok lar... Joking wif u oni...</td>\n",
       "      <td>0</td>\n",
       "    </tr>\n",
       "    <tr>\n",
       "      <th>2</th>\n",
       "      <td>Free entry in 2 a wkly comp to win FA Cup fina...</td>\n",
       "      <td>1</td>\n",
       "    </tr>\n",
       "    <tr>\n",
       "      <th>3</th>\n",
       "      <td>U dun say so early hor... U c already then say...</td>\n",
       "      <td>0</td>\n",
       "    </tr>\n",
       "    <tr>\n",
       "      <th>4</th>\n",
       "      <td>Nah I don't think he goes to usf, he lives aro...</td>\n",
       "      <td>0</td>\n",
       "    </tr>\n",
       "    <tr>\n",
       "      <th>5</th>\n",
       "      <td>FreeMsg Hey there darling it's been 3 week's n...</td>\n",
       "      <td>1</td>\n",
       "    </tr>\n",
       "    <tr>\n",
       "      <th>6</th>\n",
       "      <td>Even my brother is not like to speak with me. ...</td>\n",
       "      <td>0</td>\n",
       "    </tr>\n",
       "    <tr>\n",
       "      <th>7</th>\n",
       "      <td>As per your request 'Melle Melle (Oru Minnamin...</td>\n",
       "      <td>0</td>\n",
       "    </tr>\n",
       "    <tr>\n",
       "      <th>8</th>\n",
       "      <td>WINNER!! As a valued network customer you have...</td>\n",
       "      <td>1</td>\n",
       "    </tr>\n",
       "    <tr>\n",
       "      <th>9</th>\n",
       "      <td>Had your mobile 11 months or more? U R entitle...</td>\n",
       "      <td>1</td>\n",
       "    </tr>\n",
       "  </tbody>\n",
       "</table>\n",
       "</div>"
      ],
      "text/plain": [
       "                                                text  target\n",
       "0  Go until jurong point, crazy.. Available only ...       0\n",
       "1                      Ok lar... Joking wif u oni...       0\n",
       "2  Free entry in 2 a wkly comp to win FA Cup fina...       1\n",
       "3  U dun say so early hor... U c already then say...       0\n",
       "4  Nah I don't think he goes to usf, he lives aro...       0\n",
       "5  FreeMsg Hey there darling it's been 3 week's n...       1\n",
       "6  Even my brother is not like to speak with me. ...       0\n",
       "7  As per your request 'Melle Melle (Oru Minnamin...       0\n",
       "8  WINNER!! As a valued network customer you have...       1\n",
       "9  Had your mobile 11 months or more? U R entitle...       1"
      ]
     },
     "execution_count": 402,
     "metadata": {},
     "output_type": "execute_result"
    }
   ],
   "source": [
    "import pandas as pd\n",
    "import numpy as np\n",
    "\n",
    "spam_data = pd.read_csv('spam.csv')\n",
    "\n",
    "spam_data['target'] = np.where(spam_data['target']=='spam',1,0)\n",
    "spam_data.head(10)"
   ]
  },
  {
   "cell_type": "code",
   "execution_count": 440,
   "metadata": {
    "ExecuteTime": {
     "end_time": "2020-08-09T16:18:47.638495Z",
     "start_time": "2020-08-09T16:18:47.615506Z"
    }
   },
   "outputs": [],
   "source": [
    "from sklearn.model_selection import train_test_split\n",
    "\n",
    "\n",
    "X_train, X_test, y_train, y_test = train_test_split(spam_data['text'], \n",
    "                                                    spam_data['target'], \n",
    "                                                    random_state=0)"
   ]
  },
  {
   "cell_type": "markdown",
   "metadata": {},
   "source": [
    "### Question 1\n",
    "What percentage of the documents in `spam_data` are spam?\n",
    "\n",
    "*This function should return a float, the percent value (i.e. $ratio * 100$).*"
   ]
  },
  {
   "cell_type": "code",
   "execution_count": 441,
   "metadata": {
    "ExecuteTime": {
     "end_time": "2020-08-09T16:18:48.523128Z",
     "start_time": "2020-08-09T16:18:48.505139Z"
    }
   },
   "outputs": [],
   "source": [
    "def answer_one():\n",
    "    \n",
    "    \n",
    "    return (sum(spam_data.target)/len(spam_data) )*100"
   ]
  },
  {
   "cell_type": "code",
   "execution_count": 442,
   "metadata": {
    "ExecuteTime": {
     "end_time": "2020-08-09T16:18:48.585097Z",
     "start_time": "2020-08-09T16:18:48.564107Z"
    }
   },
   "outputs": [
    {
     "data": {
      "text/plain": [
       "13.406317300789663"
      ]
     },
     "execution_count": 442,
     "metadata": {},
     "output_type": "execute_result"
    }
   ],
   "source": [
    "answer_one()"
   ]
  },
  {
   "cell_type": "markdown",
   "metadata": {},
   "source": [
    "### Question 2\n",
    "\n",
    "Fit the training data `X_train` using a Count Vectorizer with default parameters.\n",
    "\n",
    "What is the longest token in the vocabulary?\n",
    "\n",
    "*This function should return a string.*"
   ]
  },
  {
   "cell_type": "code",
   "execution_count": 443,
   "metadata": {
    "ExecuteTime": {
     "end_time": "2020-08-09T16:18:48.926936Z",
     "start_time": "2020-08-09T16:18:48.915941Z"
    }
   },
   "outputs": [],
   "source": [
    "from sklearn.feature_extraction.text import CountVectorizer\n",
    "\n",
    "def answer_two():\n",
    "    vec=CountVectorizer().fit(X_train)\n",
    "    x= sorted( np.array(vec.get_feature_names()) , key=lambda x: len(x) , reverse=True)[0]\n",
    "    \n",
    "    return x"
   ]
  },
  {
   "cell_type": "code",
   "execution_count": 27,
   "metadata": {
    "ExecuteTime": {
     "end_time": "2020-08-09T12:02:12.460602Z",
     "start_time": "2020-08-09T12:02:12.284682Z"
    }
   },
   "outputs": [
    {
     "data": {
      "text/plain": [
       "'com1win150ppmx3age16subscription'"
      ]
     },
     "execution_count": 27,
     "metadata": {},
     "output_type": "execute_result"
    }
   ],
   "source": [
    "answer_two()"
   ]
  },
  {
   "cell_type": "markdown",
   "metadata": {},
   "source": [
    "### Question 3\n",
    "\n",
    "Fit and transform the training data `X_train` using a Count Vectorizer with default parameters.\n",
    "\n",
    "Next, fit a fit a multinomial Naive Bayes classifier model with smoothing `alpha=0.1`. Find the area under the curve (AUC) score using the transformed test data.\n",
    "\n",
    "*This function should return the AUC score as a float.*"
   ]
  },
  {
   "cell_type": "code",
   "execution_count": 28,
   "metadata": {
    "ExecuteTime": {
     "end_time": "2020-08-09T12:05:28.440324Z",
     "start_time": "2020-08-09T12:05:28.418336Z"
    }
   },
   "outputs": [],
   "source": [
    "from sklearn.naive_bayes import MultinomialNB\n",
    "from sklearn.metrics import roc_auc_score\n",
    "\n",
    "def answer_three():\n",
    "    \n",
    "    vec=CountVectorizer().fit(X_train)\n",
    "    X_train_t = vec.transform(X_train)\n",
    "    clf=MultinomialNB(alpha=0.1).fit(X_train_t , y_train)\n",
    "    pred=clf.predict( vec.transform(X_test) )\n",
    "    \n",
    "    return roc_auc_score(y_test , pred)"
   ]
  },
  {
   "cell_type": "code",
   "execution_count": 29,
   "metadata": {
    "ExecuteTime": {
     "end_time": "2020-08-09T12:05:28.976013Z",
     "start_time": "2020-08-09T12:05:28.639320Z"
    }
   },
   "outputs": [
    {
     "data": {
      "text/plain": [
       "0.9720812182741116"
      ]
     },
     "execution_count": 29,
     "metadata": {},
     "output_type": "execute_result"
    }
   ],
   "source": [
    "answer_three()"
   ]
  },
  {
   "cell_type": "markdown",
   "metadata": {},
   "source": [
    "### Question 4\n",
    "\n",
    "Fit and transform the training data `X_train` using a Tfidf Vectorizer with default parameters.\n",
    "\n",
    "What 20 features have the smallest tf-idf and what 20 have the largest tf-idf?\n",
    "\n",
    "Put these features in a two series where each series is sorted by tf-idf value and then alphabetically by feature name. The index of the series should be the feature name, and the data should be the tf-idf.\n",
    "\n",
    "The series of 20 features with smallest tf-idfs should be sorted smallest tfidf first, the list of 20 features with largest tf-idfs should be sorted largest first. \n",
    "\n",
    "*This function should return a tuple of two series\n",
    "`(smallest tf-idfs series, largest tf-idfs series)`.*"
   ]
  },
  {
   "cell_type": "code",
   "execution_count": 252,
   "metadata": {
    "ExecuteTime": {
     "end_time": "2020-08-09T14:04:00.150201Z",
     "start_time": "2020-08-09T14:04:00.134208Z"
    },
    "scrolled": true
   },
   "outputs": [],
   "source": [
    "from sklearn.feature_extraction.text import TfidfVectorizer\n",
    "\n",
    "def answer_four():\n",
    "    vec=TfidfVectorizer().fit(X_train)\n",
    "    \n",
    "    # creating index array from the top transformed words  and sortign them by their tfidf score \n",
    "    X_train_t=vec.transform(X_train)\n",
    "\n",
    "    data=X_train_t.data\n",
    "    index=X_train_t.indices\n",
    "    \n",
    "    arr= pd.Series( data , index=np.array( vec.get_feature_names() ) [index] )   \n",
    "    \n",
    "    small=arr.sort_values()[:20]\n",
    "    large=arr.sort_values()[-20:]\n",
    "    return small.sort_index() , large.sort_index()\n"
   ]
  },
  {
   "cell_type": "code",
   "execution_count": 253,
   "metadata": {
    "ExecuteTime": {
     "end_time": "2020-08-09T14:04:02.445573Z",
     "start_time": "2020-08-09T14:04:02.088700Z"
    },
    "scrolled": false
   },
   "outputs": [
    {
     "data": {
      "text/plain": [
       "(all     0.034802\n",
       " at      0.031934\n",
       " be      0.032058\n",
       " how     0.034464\n",
       " in      0.032877\n",
       " is      0.031698\n",
       " is      0.034154\n",
       " it      0.027758\n",
       " me      0.035388\n",
       " need    0.038990\n",
       " not     0.031338\n",
       " of      0.037753\n",
       " only    0.036832\n",
       " so      0.037647\n",
       " the     0.028577\n",
       " to      0.037332\n",
       " to      0.037988\n",
       " to      0.023205\n",
       " you     0.038438\n",
       " your    0.034835\n",
       " dtype: float64,\n",
       " 146tf150p    1.0\n",
       " 645          1.0\n",
       " anything     1.0\n",
       " beerage      1.0\n",
       " done         1.0\n",
       " home         1.0\n",
       " lei          1.0\n",
       " nite         1.0\n",
       " ok           1.0\n",
       " ok           1.0\n",
       " ok           1.0\n",
       " ok           1.0\n",
       " ok           1.0\n",
       " ok           1.0\n",
       " ok           1.0\n",
       " ok           1.0\n",
       " okie         1.0\n",
       " okie         1.0\n",
       " okie         1.0\n",
       " where        1.0\n",
       " dtype: float64)"
      ]
     },
     "execution_count": 253,
     "metadata": {},
     "output_type": "execute_result"
    }
   ],
   "source": [
    "answer_four()"
   ]
  },
  {
   "cell_type": "markdown",
   "metadata": {},
   "source": [
    "### Question 5\n",
    "\n",
    "Fit and transform the training data `X_train` using a Tfidf Vectorizer ignoring terms that have a document frequency strictly lower than **3**.\n",
    "\n",
    "Then fit a multinomial Naive Bayes classifier model with smoothing `alpha=0.1` and compute the area under the curve (AUC) score using the transformed test data.\n",
    "\n",
    "*This function should return the AUC score as a float.*"
   ]
  },
  {
   "cell_type": "code",
   "execution_count": 254,
   "metadata": {
    "ExecuteTime": {
     "end_time": "2020-08-09T14:07:31.848757Z",
     "start_time": "2020-08-09T14:07:31.836762Z"
    }
   },
   "outputs": [],
   "source": [
    "def answer_five():\n",
    "    vec=TfidfVectorizer(min_df=3).fit(X_train )\n",
    "    X_t= vec.transform(X_train)\n",
    "    clf=MultinomialNB(alpha=0.1).fit(X_t , y_train)\n",
    "    pred=clf.predict(vec.transform(X_test))\n",
    "    \n",
    "    return roc_auc_score(y_test , pred )"
   ]
  },
  {
   "cell_type": "code",
   "execution_count": 255,
   "metadata": {
    "ExecuteTime": {
     "end_time": "2020-08-09T14:07:32.773312Z",
     "start_time": "2020-08-09T14:07:32.444471Z"
    }
   },
   "outputs": [
    {
     "data": {
      "text/plain": [
       "0.9416243654822335"
      ]
     },
     "execution_count": 255,
     "metadata": {},
     "output_type": "execute_result"
    }
   ],
   "source": [
    "answer_five()"
   ]
  },
  {
   "cell_type": "markdown",
   "metadata": {},
   "source": [
    "### Question 6\n",
    "\n",
    "What is the average length of documents (number of characters) for not spam and spam documents?\n",
    "\n",
    "*This function should return a tuple (average length not spam, average length spam).*"
   ]
  },
  {
   "cell_type": "code",
   "execution_count": 306,
   "metadata": {
    "ExecuteTime": {
     "end_time": "2020-08-09T14:32:18.459164Z",
     "start_time": "2020-08-09T14:32:18.440176Z"
    }
   },
   "outputs": [],
   "source": [
    "def answer_six():\n",
    "    notspam=spam_data.text[spam_data.target == 0] \n",
    "    ns=np.mean([len(i) for i in notspam])\n",
    "    \n",
    "    spam= spam_data.text[spam_data.target == 1] \n",
    "    s=np.mean([len(i) for i in spam])\n",
    "\n",
    "    \n",
    "    return ns , s"
   ]
  },
  {
   "cell_type": "code",
   "execution_count": 307,
   "metadata": {
    "ExecuteTime": {
     "end_time": "2020-08-09T14:32:19.399278Z",
     "start_time": "2020-08-09T14:32:19.374291Z"
    }
   },
   "outputs": [
    {
     "data": {
      "text/plain": [
       "(71.02362694300518, 138.8661311914324)"
      ]
     },
     "execution_count": 307,
     "metadata": {},
     "output_type": "execute_result"
    }
   ],
   "source": [
    "answer_six()"
   ]
  },
  {
   "cell_type": "markdown",
   "metadata": {},
   "source": [
    "<br>\n",
    "<br>\n",
    "The following function has been provided to help you combine new features into the training data:"
   ]
  },
  {
   "cell_type": "code",
   "execution_count": 280,
   "metadata": {
    "ExecuteTime": {
     "end_time": "2020-08-09T14:16:24.164974Z",
     "start_time": "2020-08-09T14:16:24.144756Z"
    }
   },
   "outputs": [],
   "source": [
    "def add_feature(X, feature_to_add):\n",
    "    \"\"\"\n",
    "    Returns sparse feature matrix with added feature.\n",
    "    feature_to_add can also be a list of features.\n",
    "    \"\"\"\n",
    "    from scipy.sparse import csr_matrix, hstack\n",
    "    return hstack([X, csr_matrix(feature_to_add).T], 'csr')"
   ]
  },
  {
   "cell_type": "markdown",
   "metadata": {},
   "source": [
    "### Question 7\n",
    "\n",
    "Fit and transform the training data X_train using a Tfidf Vectorizer ignoring terms that have a document frequency strictly lower than **5**.\n",
    "\n",
    "Using this document-term matrix and an additional feature, **the length of document (number of characters)**, fit a Support Vector Classification model with regularization `C=10000`. Then compute the area under the curve (AUC) score using the transformed test data.\n",
    "\n",
    "*This function should return the AUC score as a float.*"
   ]
  },
  {
   "cell_type": "code",
   "execution_count": 362,
   "metadata": {
    "ExecuteTime": {
     "end_time": "2020-08-09T15:32:41.299928Z",
     "start_time": "2020-08-09T15:32:41.277939Z"
    }
   },
   "outputs": [],
   "source": [
    "from sklearn.svm import SVC\n",
    "\n",
    "def answer_seven():\n",
    "    vec=TfidfVectorizer(min_df=5).fit(X_train )\n",
    "    X_t= vec.transform(X_train)\n",
    "    X_t= add_feature(X_t , [len(i) for i in X_train])\n",
    "    clf=SVC(C=10000).fit(X_t,y_train)\n",
    "    \n",
    "    X_test_t = vec.transform(X_test)\n",
    "    X_test_t_feature = add_feature( X_test_t ,[len(i) for i in X_test] ) #X_test.str.len() \n",
    "    pred=clf.predict(X_test_t_feature)\n",
    "    x=roc_auc_score(y_test , pred)\n",
    "    return x\n",
    "\n"
   ]
  },
  {
   "cell_type": "code",
   "execution_count": 363,
   "metadata": {
    "ExecuteTime": {
     "end_time": "2020-08-09T15:32:45.116093Z",
     "start_time": "2020-08-09T15:32:41.585845Z"
    }
   },
   "outputs": [
    {
     "data": {
      "text/plain": [
       "0.9661689557407943"
      ]
     },
     "execution_count": 363,
     "metadata": {},
     "output_type": "execute_result"
    }
   ],
   "source": [
    "answer_seven()"
   ]
  },
  {
   "cell_type": "markdown",
   "metadata": {},
   "source": [
    "### Question 8\n",
    "\n",
    "What is the average number of digits per document for not spam and spam documents?\n",
    "\n",
    "*This function should return a tuple (average # digits not spam, average # digits spam).*"
   ]
  },
  {
   "cell_type": "code",
   "execution_count": 330,
   "metadata": {
    "ExecuteTime": {
     "end_time": "2020-08-09T14:48:21.308105Z",
     "start_time": "2020-08-09T14:48:21.294111Z"
    },
    "scrolled": true
   },
   "outputs": [],
   "source": [
    "def answer_eight():\n",
    "    notspam=spam_data.text[spam_data.target == 0] \n",
    "    ns= np.mean(notspam.str.count(r'\\d'))\n",
    "    \n",
    "    spam=spam_data.text[spam_data.target == 1] \n",
    "    s=np.mean(spam.str.count(r'\\d'))\n",
    "    \n",
    "    return ns , s\n"
   ]
  },
  {
   "cell_type": "code",
   "execution_count": 331,
   "metadata": {
    "ExecuteTime": {
     "end_time": "2020-08-09T14:48:22.414843Z",
     "start_time": "2020-08-09T14:48:22.369864Z"
    }
   },
   "outputs": [
    {
     "data": {
      "text/plain": [
       "(0.2992746113989637, 15.759036144578314)"
      ]
     },
     "execution_count": 331,
     "metadata": {},
     "output_type": "execute_result"
    }
   ],
   "source": [
    "answer_eight()"
   ]
  },
  {
   "cell_type": "markdown",
   "metadata": {},
   "source": [
    "### Question 9\n",
    "\n",
    "Fit and transform the training data `X_train` using a Tfidf Vectorizer ignoring terms that have a document frequency strictly lower than **5** and using **word n-grams from n=1 to n=3** (unigrams, bigrams, and trigrams).\n",
    "\n",
    "Using this document-term matrix and the following additional features:\n",
    "* the length of document (number of characters)\n",
    "* **number of digits per document**\n",
    "\n",
    "fit a Logistic Regression model with regularization `C=100`. Then compute the area under the curve (AUC) score using the transformed test data.\n",
    "\n",
    "*This function should return the AUC score as a float.*"
   ]
  },
  {
   "cell_type": "code",
   "execution_count": 366,
   "metadata": {
    "ExecuteTime": {
     "end_time": "2020-08-09T15:37:47.260810Z",
     "start_time": "2020-08-09T15:37:47.239820Z"
    }
   },
   "outputs": [],
   "source": [
    "from sklearn.linear_model import LogisticRegression\n",
    "\n",
    "def answer_nine():\n",
    "    vec=TfidfVectorizer(min_df=5 , ngram_range=(1,3)).fit(X_train )\n",
    "    X_t= vec.transform(X_train)\n",
    "    X_t= add_feature(X_t , [len(i) for i in X_train])\n",
    "    X_t_added= add_feature( X_t , X_train.str.count(r'\\d') )\n",
    "    \n",
    "    X_test_t = vec.transform(X_test)\n",
    "    X_test_t_feature = add_feature( X_test_t ,[len(i) for i in X_test] )\n",
    "    X_test_added= add_feature( X_test_t_feature , X_test.str.count(r'\\d') )\n",
    "    \n",
    "    clf= LogisticRegression(C=100).fit(X_t_added,y_train)\n",
    "    \n",
    "    \n",
    "    pred=clf.predict(X_test_added)\n",
    "    \n",
    "    \n",
    "    return roc_auc_score(y_test , pred)"
   ]
  },
  {
   "cell_type": "code",
   "execution_count": 367,
   "metadata": {
    "ExecuteTime": {
     "end_time": "2020-08-09T15:37:48.975175Z",
     "start_time": "2020-08-09T15:37:47.916682Z"
    }
   },
   "outputs": [
    {
     "name": "stderr",
     "output_type": "stream",
     "text": [
      "C:\\ProgramData\\Anaconda3\\lib\\site-packages\\sklearn\\linear_model\\_logistic.py:764: ConvergenceWarning: lbfgs failed to converge (status=1):\n",
      "STOP: TOTAL NO. of ITERATIONS REACHED LIMIT.\n",
      "\n",
      "Increase the number of iterations (max_iter) or scale the data as shown in:\n",
      "    https://scikit-learn.org/stable/modules/preprocessing.html\n",
      "Please also refer to the documentation for alternative solver options:\n",
      "    https://scikit-learn.org/stable/modules/linear_model.html#logistic-regression\n",
      "  extra_warning_msg=_LOGISTIC_SOLVER_CONVERGENCE_MSG)\n"
     ]
    },
    {
     "data": {
      "text/plain": [
       "0.9759031798040846"
      ]
     },
     "execution_count": 367,
     "metadata": {},
     "output_type": "execute_result"
    }
   ],
   "source": [
    "answer_nine()"
   ]
  },
  {
   "cell_type": "markdown",
   "metadata": {},
   "source": [
    "### Question 10\n",
    "\n",
    "What is the average number of non-word characters (anything other than a letter, digit or underscore) per document for not spam and spam documents?\n",
    "\n",
    "*Hint: Use `\\w` and `\\W` character classes*\n",
    "\n",
    "*This function should return a tuple (average # non-word characters not spam, average # non-word characters spam).*"
   ]
  },
  {
   "cell_type": "code",
   "execution_count": 436,
   "metadata": {
    "ExecuteTime": {
     "end_time": "2020-08-09T16:18:09.818152Z",
     "start_time": "2020-08-09T16:18:09.807154Z"
    }
   },
   "outputs": [],
   "source": [
    "def answer_ten():\n",
    "    nots= spam_data.text.str.count(r'\\W')[spam_data.target==0]\n",
    "    sp= spam_data.text.str.count(r'\\W')[spam_data.target==1]\n",
    "    return np.mean(nots) , np.mean(sp)"
   ]
  },
  {
   "cell_type": "code",
   "execution_count": 437,
   "metadata": {
    "ExecuteTime": {
     "end_time": "2020-08-09T16:18:10.277953Z",
     "start_time": "2020-08-09T16:18:10.159997Z"
    }
   },
   "outputs": [
    {
     "data": {
      "text/plain": [
       "(17.29181347150259, 29.041499330655956)"
      ]
     },
     "execution_count": 437,
     "metadata": {},
     "output_type": "execute_result"
    }
   ],
   "source": [
    "answer_ten()"
   ]
  },
  {
   "cell_type": "markdown",
   "metadata": {},
   "source": [
    "### Question 11\n",
    "\n",
    "Fit and transform the training data X_train using a Count Vectorizer ignoring terms that have a document frequency strictly lower than **5** and using **character n-grams from n=2 to n=5.**\n",
    "\n",
    "To tell Count Vectorizer to use character n-grams pass in `analyzer='char_wb'` which creates character n-grams only from text inside word boundaries. This should make the model more robust to spelling mistakes.\n",
    "\n",
    "Using this document-term matrix and the following additional features:\n",
    "* the length of document (number of characters)\n",
    "* number of digits per document\n",
    "* **number of non-word characters (anything other than a letter, digit or underscore.)**\n",
    "\n",
    "fit a Logistic Regression model with regularization C=100. Then compute the area under the curve (AUC) score using the transformed test data.\n",
    "\n",
    "Also **find the 10 smallest and 10 largest coefficients from the model** and return them along with the AUC score in a tuple.\n",
    "\n",
    "The list of 10 smallest coefficients should be sorted smallest first, the list of 10 largest coefficients should be sorted largest first.\n",
    "\n",
    "The three features that were added to the document term matrix should have the following names should they appear in the list of coefficients:\n",
    "['length_of_doc', 'digit_count', 'non_word_char_count']\n",
    "\n",
    "*This function should return a tuple `(AUC score as a float, smallest coefs list, largest coefs list)`.*"
   ]
  },
  {
   "cell_type": "code",
   "execution_count": 475,
   "metadata": {
    "ExecuteTime": {
     "end_time": "2020-08-09T16:38:40.498800Z",
     "start_time": "2020-08-09T16:38:40.476805Z"
    }
   },
   "outputs": [
    {
     "data": {
      "text/plain": [
       "\"    # jsut for the grader nvm \\n   feature_names = np.array( vec.get_feature_names() + ['length_of_doc', 'digit_count', 'non_word_char_count'] )\\n   sorted_coef_index = clf.coef_[0].argsort()\\n   smallest = feature_names[sorted_coef_index[:10]]\\n   largest = feature_names[sorted_coef_index[:-11:-1]]\\n\\n   return (auc, list(smallest), list(largest))\""
      ]
     },
     "execution_count": 475,
     "metadata": {},
     "output_type": "execute_result"
    }
   ],
   "source": [
    " def answer_eleven():\n",
    "    \n",
    "    \n",
    "    vec=CountVectorizer(min_df=5 , ngram_range=(2,5) , analyzer='char_wb' ).fit( X_train )\n",
    "    \n",
    "    X_t= vec.transform(X_train)\n",
    "    #['length_of_doc', 'digit_count', 'non_word_char_count']\n",
    "\n",
    "\n",
    "    X_t= add_feature(X_t ,[ [len(i) for i in X_train] , [i.count(r'\\d') for i in X_train]  ,  [i.count(r'\\W') for i in X_train] ]  ) # adding the length\n",
    "\n",
    "\n",
    "\n",
    "    \n",
    "    X_test_t = vec.transform(X_test)\n",
    "    \n",
    "    \n",
    "    X_test_t = add_feature( X_test_t ,[[len(i) for i in X_test] ,[i.count(r'\\d') for i in X_test]  ,  [i.count(r'\\W') for i in X_test]  ]    )\n",
    "\n",
    "    \n",
    "    clf= LogisticRegression(C=100).fit(X_t,y_train)\n",
    "    \n",
    "    \n",
    "    pred=clf.predict(X_test_t)\n",
    "    auc=roc_auc_score(y_test , pred)\n",
    "    \n",
    "    small= sorted(clf.coef_[0])[:10]\n",
    "    big= sorted(clf.coef_[0] , reverse=True)[:10]\n",
    "    \n",
    "    return auc , small , big\n",
    "'''    # jsut for the grader nvm \n",
    "    feature_names = np.array( vec.get_feature_names() + ['length_of_doc', 'digit_count', 'non_word_char_count'] )\n",
    "    sorted_coef_index = clf.coef_[0].argsort()\n",
    "    smallest = feature_names[sorted_coef_index[:10]]\n",
    "    largest = feature_names[sorted_coef_index[:-11:-1]]\n",
    "\n",
    "    return (auc, list(smallest), list(largest))'''"
   ]
  },
  {
   "cell_type": "code",
   "execution_count": 476,
   "metadata": {
    "ExecuteTime": {
     "end_time": "2020-08-09T16:38:45.662973Z",
     "start_time": "2020-08-09T16:38:40.902925Z"
    },
    "scrolled": false
   },
   "outputs": [
    {
     "name": "stderr",
     "output_type": "stream",
     "text": [
      "C:\\ProgramData\\Anaconda3\\lib\\site-packages\\sklearn\\linear_model\\_logistic.py:764: ConvergenceWarning: lbfgs failed to converge (status=1):\n",
      "STOP: TOTAL NO. of ITERATIONS REACHED LIMIT.\n",
      "\n",
      "Increase the number of iterations (max_iter) or scale the data as shown in:\n",
      "    https://scikit-learn.org/stable/modules/preprocessing.html\n",
      "Please also refer to the documentation for alternative solver options:\n",
      "    https://scikit-learn.org/stable/modules/linear_model.html#logistic-regression\n",
      "  extra_warning_msg=_LOGISTIC_SOLVER_CONVERGENCE_MSG)\n"
     ]
    },
    {
     "data": {
      "text/plain": [
       "(0.9771870702680677,\n",
       " [-1.898733111097317,\n",
       "  -1.191150579791098,\n",
       "  -0.9156300688588015,\n",
       "  -0.9133792191515413,\n",
       "  -0.8985744777763066,\n",
       "  -0.8714139278091951,\n",
       "  -0.8468364363048461,\n",
       "  -0.8413839870031169,\n",
       "  -0.8260302032536113,\n",
       "  -0.8169384988432417],\n",
       " [1.5572055310990383,\n",
       "  1.4695117966437328,\n",
       "  1.3512187008670453,\n",
       "  1.1892763884766082,\n",
       "  1.153113595525657,\n",
       "  1.0595936045997558,\n",
       "  0.8841068447596074,\n",
       "  0.7829987492418228,\n",
       "  0.7814807750900893,\n",
       "  0.7735077944733656])"
      ]
     },
     "execution_count": 476,
     "metadata": {},
     "output_type": "execute_result"
    }
   ],
   "source": [
    "answer_eleven()"
   ]
  },
  {
   "cell_type": "code",
   "execution_count": null,
   "metadata": {},
   "outputs": [],
   "source": []
  }
 ],
 "metadata": {
  "coursera": {
   "course_slug": "python-text-mining",
   "graded_item_id": "Pn19K",
   "launcher_item_id": "y1juS",
   "part_id": "ctlgo"
  },
  "kernelspec": {
   "display_name": "Python 3",
   "language": "python",
   "name": "python3"
  },
  "language_info": {
   "codemirror_mode": {
    "name": "ipython",
    "version": 3
   },
   "file_extension": ".py",
   "mimetype": "text/x-python",
   "name": "python",
   "nbconvert_exporter": "python",
   "pygments_lexer": "ipython3",
   "version": "3.7.7"
  },
  "varInspector": {
   "cols": {
    "lenName": 16,
    "lenType": 16,
    "lenVar": 40
   },
   "kernels_config": {
    "python": {
     "delete_cmd_postfix": "",
     "delete_cmd_prefix": "del ",
     "library": "var_list.py",
     "varRefreshCmd": "print(var_dic_list())"
    },
    "r": {
     "delete_cmd_postfix": ") ",
     "delete_cmd_prefix": "rm(",
     "library": "var_list.r",
     "varRefreshCmd": "cat(var_dic_list()) "
    }
   },
   "types_to_exclude": [
    "module",
    "function",
    "builtin_function_or_method",
    "instance",
    "_Feature"
   ],
   "window_display": false
  }
 },
 "nbformat": 4,
 "nbformat_minor": 2
}
