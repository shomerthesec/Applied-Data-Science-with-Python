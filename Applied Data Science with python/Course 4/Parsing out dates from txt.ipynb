{
 "cells": [
  {
   "cell_type": "markdown",
   "metadata": {},
   "source": [
    "---\n",
    "\n",
    "_You are currently looking at **version 1.1** of this notebook. To download notebooks and datafiles, as well as get help on Jupyter notebooks in the Coursera platform, visit the [Jupyter Notebook FAQ](https://www.coursera.org/learn/python-text-mining/resources/d9pwm) course resource._\n",
    "\n",
    "---"
   ]
  },
  {
   "cell_type": "markdown",
   "metadata": {},
   "source": [
    "# Assignment 1\n",
    "\n",
    "In this assignment, you'll be working with messy medical data and using regex to extract relevant infromation from the data. \n",
    "\n",
    "Each line of the `dates.txt` file corresponds to a medical note. Each note has a date that needs to be extracted, but each date is encoded in one of many formats.\n",
    "\n",
    "The goal of this assignment is to correctly identify all of the different date variants encoded in this dataset and to properly normalize and sort the dates. \n",
    "\n",
    "Here is a list of some of the variants you might encounter in this dataset:\n",
    "* 04/20/2009; 04/20/09; 4/20/09; 4/3/09\n",
    "* Mar-20-2009; Mar 20, 2009; March 20, 2009;  Mar. 20, 2009; Mar 20 2009;\n",
    "* 20 Mar 2009; 20 March 2009; 20 Mar. 2009; 20 March, 2009\n",
    "* Mar 20th, 2009; Mar 21st, 2009; Mar 22nd, 2009\n",
    "* Feb 2009; Sep 2009; Oct 2010\n",
    "* 6/2008; 12/2009\n",
    "* 2009; 2010\n",
    "\n",
    "Once you have extracted these date patterns from the text, the next step is to sort them in ascending chronological order accoring to the following rules:\n",
    "* Assume all dates in xx/xx/xx format are mm/dd/yy\n",
    "* Assume all dates where year is encoded in only two digits are years from the 1900's (e.g. 1/5/89 is January 5th, 1989)\n",
    "* If the day is missing (e.g. 9/2009), assume it is the first day of the month (e.g. September 1, 2009).\n",
    "* If the month is missing (e.g. 2010), assume it is the first of January of that year (e.g. January 1, 2010).\n",
    "* Watch out for potential typos as this is a raw, real-life derived dataset.\n",
    "\n",
    "With these rules in mind, find the correct date in each note and return a pandas Series in chronological order of the original Series' indices.\n",
    "\n",
    "For example if the original series was this:\n",
    "\n",
    "    0    1999\n",
    "    1    2010\n",
    "    2    1978\n",
    "    3    2015\n",
    "    4    1985\n",
    "\n",
    "Your function should return this:\n",
    "\n",
    "    0    2\n",
    "    1    4\n",
    "    2    0\n",
    "    3    1\n",
    "    4    3\n",
    "\n",
    "Your score will be calculated using [Kendall's tau](https://en.wikipedia.org/wiki/Kendall_rank_correlation_coefficient), a correlation measure for ordinal data.\n",
    "\n",
    "*This function should return a Series of length 500 and dtype int.*"
   ]
  },
  {
   "cell_type": "code",
   "execution_count": 709,
   "metadata": {
    "ExecuteTime": {
     "end_time": "2020-08-06T18:49:30.210115Z",
     "start_time": "2020-08-06T18:49:30.183128Z"
    }
   },
   "outputs": [
    {
     "data": {
      "text/plain": [
       "0         03/25/93 Total time of visit (in minutes):\\n\n",
       "1                       6/18/85 Primary Care Doctor:\\n\n",
       "2    sshe plans to move as of 7/8/71 In-Home Servic...\n",
       "3                7 on 9/27/75 Audit C Score Current:\\n\n",
       "4    2/6/96 sleep studyPain Treatment Pain Level (N...\n",
       "5                    .Per 7/06/79 Movement D/O note:\\n\n",
       "6    4, 5/18/78 Patient's thoughts about current su...\n",
       "7    10/24/89 CPT Code: 90801 - Psychiatric Diagnos...\n",
       "8                         3/7/86 SOS-10 Total Score:\\n\n",
       "9             (4/10/71)Score-1Audit C Score Current:\\n\n",
       "dtype: object"
      ]
     },
     "execution_count": 709,
     "metadata": {},
     "output_type": "execute_result"
    }
   ],
   "source": [
    "import pandas as pd\n",
    "\n",
    "doc = []\n",
    "with open('dates.txt',encoding='utf-8') as file:\n",
    "    for line in file:\n",
    "        doc.append(line)\n",
    "\n",
    "df = pd.Series(doc)\n",
    "df.head(10)"
   ]
  },
  {
   "cell_type": "code",
   "execution_count": 715,
   "metadata": {
    "ExecuteTime": {
     "end_time": "2020-08-06T18:54:01.710355Z",
     "start_time": "2020-08-06T18:54:01.604408Z"
    },
    "code_folding": []
   },
   "outputs": [
    {
     "data": {
      "text/plain": [
       "0        9\n",
       "1       84\n",
       "2        2\n",
       "3       53\n",
       "4       28\n",
       "      ... \n",
       "495    231\n",
       "496    141\n",
       "497    186\n",
       "498    161\n",
       "499    413\n",
       "Length: 500, dtype: int64"
      ]
     },
     "execution_count": 715,
     "metadata": {},
     "output_type": "execute_result"
    }
   ],
   "source": [
    "def date_sorter():\n",
    "    regex1 = '(\\d{1,2}[/-]\\d{1,2}[/-]\\d{2,4})'\n",
    "    regex2 = '((?:Jan|Feb|Mar|Apr|May|Jun|Jul|Aug|Sep|Oct|Nov|Dec)[\\S]*[+\\s]\\d{1,2}[,]{0,1}[+\\s]\\d{4})'\n",
    "    regex3 = '(\\d{1,2}[+\\s](?:Jan|Feb|Mar|Apr|May|Jun|Jul|Aug|Sep|Oct|Nov|Dec)[\\S]*[+\\s]\\d{4})'\n",
    "    regex4 = '((?:Jan|Feb|Mar|Apr|May|Jun|Jul|Aug|Sep|Oct|Nov|Dec)[\\S]*[+\\s]\\d{4})'\n",
    "    regex5 = '(\\d{1,2}[/-][1|2]\\d{3})'\n",
    "    regex6 = '([1|2]\\d{3})'\n",
    "    full_regex = '(%s|%s|%s|%s|%s|%s)' %(regex1, regex2, regex3, regex4, regex5, regex6)\n",
    "    parsed_date = df.str.extract(full_regex)\n",
    "    parsed_date = parsed_date.iloc[:,0].str.replace('Janaury', 'January').str.replace('Decemeber', 'December')\n",
    "    # converting the data into datetime obj\n",
    "    parsed_date = pd.Series(pd.to_datetime(parsed_date))\n",
    "    parsed_date = parsed_date.sort_values(ascending=True)\n",
    "        # sorting the dates and keeping their index\n",
    "\n",
    "    # returning the index sorted from old to new dates for the grader\n",
    "    return pd.Series(parsed_date.index)\n",
    "date_sorter()"
   ]
  },
  {
   "cell_type": "markdown",
   "metadata": {},
   "source": [
    "# you can look at my 700+ tries to solve the problems :D\n",
    "## make sure to convert the cells into code cells not markdowns"
   ]
  },
  {
   "cell_type": "markdown",
   "metadata": {
    "ExecuteTime": {
     "end_time": "2020-08-06T10:48:08.030621Z",
     "start_time": "2020-08-06T10:48:08.011630Z"
    }
   },
   "source": [
    "04/20/2009; 04/20/09; 4/20/09; 4/3/09\n",
    "Mar-20-2009; Mar 20, 2009; March 20, 2009; Mar. 20, 2009; Mar 20 2009;\n",
    "20 Mar 2009; 20 March 2009; 20 Mar. 2009; 20 March, 2009\n",
    "Mar 20th, 2009; Mar 21st, 2009; Mar 22nd, 2009\n",
    "Feb 2009; Sep 2009; Oct 2010\n",
    "6/2008; 12/2009\n",
    "2009; 2010\n",
    "r'(\\d{1,2}/\\d{1,2}/\\d{2,4})|(\\w{3,9}[-.] ?\\d{1,2} ?,?\\d{2,4})|(\\d{1,2} \\w{3,9}[,.] \\d{2,4})|(\\w{3,9} \\d{1,2}\\w{2}, \\d{2,4})|(\\w{3,9} \\d{2,4})|(\\d{1,2}/\\d{2,4})|(\\d{2,4}) '"
   ]
  },
  {
   "cell_type": "markdown",
   "metadata": {
    "ExecuteTime": {
     "end_time": "2020-08-06T13:48:23.647478Z",
     "start_time": "2020-08-06T13:48:23.640477Z"
    }
   },
   "source": [
    "\n",
    "re=[\n",
    "    r'(\\d{1,2}/\\d{1,2}/\\d{2,4})',\n",
    "    r'([January|February|March|April|May|June|July|August|September|October|November|December|Jan|Feb|Mar|Apr|May|Jun|Jul|Aug|Sep|Oct|Nov|Dec][-.] ?\\d{1,2} ?,?\\d{2,4})',\n",
    "    r'(\\d{1,2} [January|February|March|April|May|June|July|August|September|October|November|December|Jan|Feb|Mar|Apr|May|Jun|Jul|Aug|Sep|Oct|Nov|Dec][,.] \\d{2,4})',\n",
    "    r'([January|February|March|April|May|June|July|August|September|October|November|December|Jan|Feb|Mar|Apr|May|Jun|Jul|Aug|Sep|Oct|Nov|Dec] \\d{1,2}\\w{2}, \\d{2,4})',\n",
    "    r'([January|February|March|April|May|June|July|August|September|October|November|December|Jan|Feb|Mar|Apr|May|Jun|Jul|Aug|Sep|Oct|Nov|Dec] \\d{2,4})',\n",
    "    r'(\\d{1,2}/\\d{2,4})',\n",
    "    r'(\\d{2,4})']\n"
   ]
  },
  {
   "cell_type": "markdown",
   "metadata": {
    "ExecuteTime": {
     "end_time": "2020-08-06T13:58:26.244401Z",
     "start_time": "2020-08-06T13:58:25.939644Z"
    }
   },
   "source": [
    "dates[10:100]\n",
    "#df[99]\n",
    "#x[10:100]\n",
    "x=df.str.findall(r'(\\d{1,2}/\\d{1,2}/\\d{2,4})?|([January|February|March|April|May|June|July|August|September|October|November|December|Jan|Feb|Mar|Apr|May|Jun|Jul|Aug|Sep|Oct|Nov|Dec][-.] ?\\d{1,2} ?,?\\d{2,4})?|(\\d{1,2} [January|February|March|April|May|June|July|August|September|October|November|December|Jan|Feb|Mar|Apr|May|Jun|Jul|Aug|Sep|Oct|Nov|Dec][,.] \\d{2,4})?|([January|February|March|April|May|June|July|August|September|October|November|December|Jan|Feb|Mar|Apr|May|Jun|Jul|Aug|Sep|Oct|Nov|Dec] \\d{1,2}\\w{2}, \\d{2,4})?|([January|February|March|April|May|June|July|August|September|October|November|December|Jan|Feb|Mar|Apr|May|Jun|Jul|Aug|Sep|Oct|Nov|Dec] \\d{2,4})|(\\d{1,2}/\\d{2,4})?|(\\d{2,4})?')\n",
    "for i in x:\n",
    "    print(i)\n",
    "\n",
    "#[January|February|March|April|May|June|July|August|September|October|November|December]\n",
    "#[|Jan|Feb|Mar|Apr|May|Jun|Jul|Aug|Sep|Oct|Nov|Dec]"
   ]
  },
  {
   "cell_type": "markdown",
   "metadata": {
    "ExecuteTime": {
     "end_time": "2020-08-06T11:37:12.827034Z",
     "start_time": "2020-08-06T11:37:12.787049Z"
    }
   },
   "source": [
    "dates=pd.DataFrame(df.str.findall( r'(\\d{1,2}<?[/-]?\\d{1,2}?[-/]?\\d{2,4}?)' ))\n",
    "dates"
   ]
  },
  {
   "cell_type": "markdown",
   "metadata": {
    "ExecuteTime": {
     "end_time": "2020-08-06T15:44:10.047777Z",
     "start_time": "2020-08-06T15:44:10.038785Z"
    }
   },
   "source": [
    "doc[0]"
   ]
  },
  {
   "cell_type": "markdown",
   "metadata": {
    "ExecuteTime": {
     "end_time": "2020-08-06T15:46:04.398848Z",
     "start_time": "2020-08-06T15:46:04.354868Z"
    }
   },
   "source": [
    "pattern=r'(?:\\d{1,2}/\\d{1,2}/\\d{2,4})|(?:January|February|March|April|May|June|July|August|September|October|November|December|Jan$|Feb$|Mar$|Apr$|May$|Jun$|Jul$|Aug$|Sep$|Oct$|Nov$|Dec$[-./] ?\\d{1,2} ?,?\\d{4})|(?:\\d{1,2} January|February|March|April|May|June|July|August|September|October|November|December|Jan$|Feb$|Mar$|Apr$|May$|Jun$|Jul$|Aug$|Sep$|Oct$|Nov$|Dec$[,./] \\d{4})|(?:January|February|March|April|May|June|July|August|September|October|November|December|Jan$|Feb$|Mar$|Apr$|May$|Jun$|Jul$|Aug$|Sep$|Oct$|Nov$|Dec$ \\d{1,2}\\w{2}, \\d{4})|(?:January|February|March|April|May|June|July|August|September|October|November|December|Jan$|Feb$|Mar$|Apr$|May$|Jun$|Jul$|Aug$|Sep$|Oct$|Nov$|Dec$ \\d{4})|(?:\\d{1,2}/\\d{4})|(?:\\d{4})'\n",
    "match=[]\n",
    "for i in doc:\n",
    "    match=(re.search(pattern, i)     )                                                    \n",
    "match"
   ]
  },
  {
   "cell_type": "markdown",
   "metadata": {
    "ExecuteTime": {
     "end_time": "2020-08-06T14:44:30.347930Z",
     "start_time": "2020-08-06T14:44:30.265969Z"
    }
   },
   "source": [
    "f=df.str.findall(r'((?:\\d{1,2}/\\d{1,2}/\\d{2,4})|(?:January|February|March|April|May|June|July|August|September|October|November|December|Jan$|Feb$|Mar$|Apr$|May$|Jun$|Jul$|Aug$|Sep$|Oct$|Nov$|Dec$[-./] ?\\d{1,2} ?,?\\d{4})|(?:\\d{1,2} January|February|March|April|May|June|July|August|September|October|November|December|Jan$|Feb$|Mar$|Apr$|May$|Jun$|Jul$|Aug$|Sep$|Oct$|Nov$|Dec$[,./] \\d{4})|(?:January|February|March|April|May|June|July|August|September|October|November|December|Jan$|Feb$|Mar$|Apr$|May$|Jun$|Jul$|Aug$|Sep$|Oct$|Nov$|Dec$ \\d{1,2}\\w{2}, \\d{4})|(?:January|February|March|April|May|June|July|August|September|October|November|December|Jan$|Feb$|Mar$|Apr$|May$|Jun$|Jul$|Aug$|Sep$|Oct$|Nov$|Dec$ \\d{4})|(?:\\d{1,2}/\\d{4})|(?:\\d{4}))')\n",
    "date_un=pd.DataFrame(data=f,columns=['date'])"
   ]
  },
  {
   "cell_type": "markdown",
   "metadata": {
    "ExecuteTime": {
     "end_time": "2020-08-06T15:23:36.109774Z",
     "start_time": "2020-08-06T15:23:35.772940Z"
    }
   },
   "source": [
    "#date_un['date']=[i for i in date_un['date'] ]\n",
    "x=df.str.extractall(r'(?P<time>(?:\\d{1,2}/\\d{1,2}/\\d{2,4})?|(?:January|February|March|April|May|June|July|August|September|October|November|December|Jan$|Feb$|Mar$|Apr$|May$|Jun$|Jul$|Aug$|Sep$|Oct$|Nov$|Dec$[-./] ?\\d{1,2} ?,?\\d{4})?|(?:\\d{1,2} January|February|March|April|May|June|July|August|September|October|November|December|Jan$|Feb$|Mar$|Apr$|May$|Jun$|Jul$|Aug$|Sep$|Oct$|Nov$|Dec$[,./] \\d{4})?|(?:January|February|March|April|May|June|July|August|September|October|November|December|Jan$|Feb$|Mar$|Apr$|May$|Jun$|Jul$|Aug$|Sep$|Oct$|Nov$|Dec$ \\d{1,2}\\w{2}, \\d{4})?|(?:January|February|March|April|May|June|July|August|September|October|November|December|Jan$|Feb$|Mar$|Apr$|May$|Jun$|Jul$|Aug$|Sep$|Oct$|Nov$|Dec$ \\d{4})?|(?:\\d{1,2}/\\d{4})?|(?:\\d{4})?)')\n",
    "x.dropna()"
   ]
  },
  {
   "cell_type": "markdown",
   "metadata": {
    "ExecuteTime": {
     "end_time": "2020-08-06T14:28:17.180057Z",
     "start_time": "2020-08-06T14:28:17.159064Z"
    }
   },
   "source": [
    "txt=[]\n",
    "for i in f:\n",
    "          [txt.append(a) for a in i if a] \n",
    "pd.DataFrame(txt)[100:200]"
   ]
  },
  {
   "cell_type": "markdown",
   "metadata": {},
   "source": [
    "r'((\\d{1,2}/\\d{1,2}/\\d{2,4})|((?:January|February|March|April|May|June|July|August|September|October|November|December|Jan$|Feb$|Mar$|Apr$|May$|Jun$|Jul$|Aug$|Sep$|Oct$|Nov$|Dec$)[-./] ?\\d{1,2} ?,?\\d{4})\n",
    "    |(\\d{1,2} (?:January|February|March|April|May|June|July|August|September|October|November|December|Jan$|Feb$|Mar$|Apr$|May$|Jun$|Jul$|Aug$|Sep$|Oct$|Nov$|Dec$)[,./] ?\\d{4})\n",
    "    |((?:January|February|March|April|May|June|July|August|September|October|November|December|Jan$|Feb$|Mar$|Apr$|May$|Jun$|Jul$|Aug$|Sep$|Oct$|Nov$|Dec$) ?\\d{1,2}\\w{2}, ?\\d{4})\n",
    "    |((?:January|February|March|April|May|June|July|August|September|October|November|December|Jan$|Feb$|Mar$|Apr$|May$|Jun$|Jul$|Aug$|Sep$|Oct$|Nov$|Dec$) ?\\d{4})\n",
    "    |(\\d{1,2}/\\d{4})\n",
    "    |(\\d{4}))')\n"
   ]
  },
  {
   "cell_type": "markdown",
   "metadata": {
    "ExecuteTime": {
     "end_time": "2020-08-06T18:12:06.190881Z",
     "start_time": "2020-08-06T18:12:06.137903Z"
    }
   },
   "source": [
    " parsed_date = df.str.extract(r'((\\d{1,2}[-/]\\d{1,2}[-/]\\d{2,4})|((?:January|February|March|April|May|June|July|August|September|October|November|December|Jan$|Feb$|Mar$|Apr$|May$|Jun$|Jul$|Aug$|Sep$|Oct$|Nov$|Dec$)[-./] ?\\d{1,2} ?,?\\d{4})|(\\d{1,2} (?:January|February|March|April|May|June|July|August|September|October|November|December|Jan$|Feb$|Mar$|Apr$|May$|Jun$|Jul$|Aug$|Sep$|Oct$|Nov$|Dec$)[,./] ?\\d{4})|((?:January|February|March|April|May|June|July|August|September|October|November|December|Jan$|Feb$|Mar$|Apr$|May$|Jun$|Jul$|Aug$|Sep$|Oct$|Nov$|Dec$) ?\\d{1,2}\\w{2}, ?\\d{4})|((?:January|February|March|April|May|June|July|August|September|October|November|December|Jan$|Feb$|Mar$|Apr$|May$|Jun$|Jul$|Aug$|Sep$|Oct$|Nov$|Dec$) ?\\d{4})|(\\d{1,2}/\\d{4})|([1|2]\\d{3}))').drop([i for i in range (1,8)],axis=1)"
   ]
  },
  {
   "cell_type": "markdown",
   "metadata": {
    "ExecuteTime": {
     "end_time": "2020-08-06T18:12:06.525451Z",
     "start_time": "2020-08-06T18:12:06.463479Z"
    }
   },
   "source": [
    "\n",
    "parsed_date=parsed_date[0].replace('Janaury', 'January').replace('Decemeber', 'December')\n",
    "parsed_date=pd.to_datetime(parsed_date) \n"
   ]
  },
  {
   "cell_type": "markdown",
   "metadata": {
    "ExecuteTime": {
     "end_time": "2020-08-06T18:12:53.725453Z",
     "start_time": "2020-08-06T18:12:53.714461Z"
    }
   },
   "source": [
    "idx= parsed_date.sort_values().index"
   ]
  },
  {
   "cell_type": "markdown",
   "metadata": {
    "ExecuteTime": {
     "end_time": "2020-08-06T18:13:00.409488Z",
     "start_time": "2020-08-06T18:13:00.397493Z"
    }
   },
   "source": [
    "pd.Series(idx ,dtype=int)\n"
   ]
  },
  {
   "cell_type": "markdown",
   "metadata": {
    "ExecuteTime": {
     "end_time": "2020-08-06T18:43:32.336644Z",
     "start_time": "2020-08-06T18:43:32.231173Z"
    }
   },
   "source": [
    "parsed_date = df.str.extract(r'((\\d{1,2}[/-]\\d{1,2}[/-]\\d{2,4})|((?:January|February|March|April|May|June|July|August|September|October|November|December|Jan$|Feb$|Mar$|Apr$|May$|Jun$|Jul$|Aug$|Sep$|Oct$|Nov$|Dec$)[\\S]*[+\\s]\\d{1,2} ?[\\S]*[+\\s]\\d{4})|(\\d{1,2}[+\\s](?:January|February|March|April|May|June|July|August|September|October|November|December|Jan$|Feb$|Mar$|Apr$|May$|Jun$|Jul$|Aug$|Sep$|Oct$|Nov$|Dec$)[\\S]*[+\\s]\\d{4})|((?:January|February|March|April|May|June|July|August|September|October|November|December|Jan$|Feb$|Mar$|Apr$|May$|Jun$|Jul$|Aug$|Sep$|Oct$|Nov$|Dec$)[\\S]*[+\\s]\\d{1,2}\\w{2}[\\S]*[+\\s]*\\d{4})|((?:January|February|March|April|May|June|July|August|September|October|November|December|Jan$|Feb$|Mar$|Apr$|May$|Jun$|Jul$|Aug$|Sep$|Oct$|Nov$|Dec$)[\\S]*[+\\s]\\d{4})|(\\d{1,2}[/-][1,2]\\d{3})|([1|2]\\d{3}))').drop([i for i in range (1,8)],axis=1)\n",
    "# replaying the typos to make sure the to_datetime wont break\n",
    "parsed_date=parsed_date[0].replace('Janaury', 'January').replace('Decemeber', 'December')\n",
    "# converting the data into datetime obj\n",
    "\n",
    "parsed_date=pd.Series(pd.to_datetime(parsed_date))\n",
    "\n",
    "# sorting the dates and keeping their index\n",
    "idx= parsed_date.sort_values(ascending=True)\n",
    "# returning the index sorted from old to new dates for the grader\n",
    "#pd.Series(idx ,dtype=int)\n",
    "pd.Series(idx.values)"
   ]
  },
  {
   "cell_type": "markdown",
   "metadata": {
    "ExecuteTime": {
     "end_time": "2020-08-06T18:26:20.480343Z",
     "start_time": "2020-08-06T18:26:20.356406Z"
    }
   },
   "source": [
    "regex1 = '(\\d{1,2}[/-]\\d{1,2}[/-]\\d{2,4})'\n",
    "regex2 = '((?:Jan|Feb|Mar|Apr|May|Jun|Jul|Aug|Sep|Oct|Nov|Dec)[\\S]*[+\\s]\\d{1,2}[,]{0,1}[+\\s]\\d{4})'\n",
    "regex3 = '(\\d{1,2}[+\\s](?:Jan|Feb|Mar|Apr|May|Jun|Jul|Aug|Sep|Oct|Nov|Dec)[\\S]*[+\\s]\\d{4})'\n",
    "regex4 = '((?:Jan|Feb|Mar|Apr|May|Jun|Jul|Aug|Sep|Oct|Nov|Dec)[\\S]*[+\\s]\\d{4})'\n",
    "regex5 = '(\\d{1,2}[/-][1|2]\\d{3})'\n",
    "regex6 = '([1|2]\\d{3})'\n",
    "full_regex = '(%s|%s|%s|%s|%s|%s)' %(regex1, regex2, regex3, regex4, regex5, regex6)\n",
    "parsed_date = df.str.extract(full_regex)\n",
    "parsed_date = parsed_date.iloc[:,0].str.replace('Janaury', 'January').str.replace('Decemeber', 'December')\n",
    "parsed_date = pd.Series(pd.to_datetime(parsed_date))\n",
    "parsed_date = parsed_date.sort_values(ascending=True).index\n",
    "pd.Series(parsed_date.values)"
   ]
  },
  {
   "cell_type": "code",
   "execution_count": null,
   "metadata": {},
   "outputs": [],
   "source": []
  }
 ],
 "metadata": {
  "coursera": {
   "course_slug": "python-text-mining",
   "graded_item_id": "LvcWI",
   "launcher_item_id": "krne9",
   "part_id": "Mkp1I"
  },
  "kernelspec": {
   "display_name": "Python 3",
   "language": "python",
   "name": "python3"
  },
  "language_info": {
   "codemirror_mode": {
    "name": "ipython",
    "version": 3
   },
   "file_extension": ".py",
   "mimetype": "text/x-python",
   "name": "python",
   "nbconvert_exporter": "python",
   "pygments_lexer": "ipython3",
   "version": "3.7.7"
  },
  "varInspector": {
   "cols": {
    "lenName": 16,
    "lenType": 16,
    "lenVar": 40
   },
   "kernels_config": {
    "python": {
     "delete_cmd_postfix": "",
     "delete_cmd_prefix": "del ",
     "library": "var_list.py",
     "varRefreshCmd": "print(var_dic_list())"
    },
    "r": {
     "delete_cmd_postfix": ") ",
     "delete_cmd_prefix": "rm(",
     "library": "var_list.r",
     "varRefreshCmd": "cat(var_dic_list()) "
    }
   },
   "types_to_exclude": [
    "module",
    "function",
    "builtin_function_or_method",
    "instance",
    "_Feature"
   ],
   "window_display": false
  }
 },
 "nbformat": 4,
 "nbformat_minor": 2
}
